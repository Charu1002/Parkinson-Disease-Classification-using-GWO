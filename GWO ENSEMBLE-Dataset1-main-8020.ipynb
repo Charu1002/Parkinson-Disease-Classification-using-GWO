{
 "cells": [
  {
   "cell_type": "code",
   "execution_count": 1,
   "metadata": {},
   "outputs": [
    {
     "name": "stderr",
     "output_type": "stream",
     "text": [
      "D:\\anaconda3\\lib\\site-packages\\scipy\\__init__.py:146: UserWarning: A NumPy version >=1.16.5 and <1.23.0 is required for this version of SciPy (detected version 1.23.5\n",
      "  warnings.warn(f\"A NumPy version >={np_minversion} and <{np_maxversion}\"\n"
     ]
    }
   ],
   "source": [
    "import numpy as np\n",
    "import pandas as pd\n",
    "import matplotlib.pyplot as plt\n",
    "import array\n",
    "from array import *\n",
    "import random\n",
    "import time\n",
    "import math\n",
    "from sklearn import model_selection\n",
    "from sklearn.preprocessing import LabelBinarizer\n",
    "from sklearn.model_selection import train_test_split\n",
    "from sklearn.preprocessing import StandardScaler\n",
    "from sklearn.neighbors import KNeighborsClassifier\n",
    "from sklearn.metrics import confusion_matrix\n",
    "from sklearn.metrics import make_scorer\n",
    "from sklearn.svm import SVC\n",
    "from sklearn.ensemble import VotingClassifier\n",
    "from sklearn.metrics import roc_curve\n",
    "from sklearn.metrics import make_scorer\n",
    "from xgboost import XGBClassifier\n",
    "from sklearn.tree import DecisionTreeClassifier\n",
    "from sklearn.ensemble import RandomForestClassifier"
   ]
  },
  {
   "cell_type": "code",
   "execution_count": 2,
   "metadata": {},
   "outputs": [
    {
     "data": {
      "text/html": [
       "<div>\n",
       "<style scoped>\n",
       "    .dataframe tbody tr th:only-of-type {\n",
       "        vertical-align: middle;\n",
       "    }\n",
       "\n",
       "    .dataframe tbody tr th {\n",
       "        vertical-align: top;\n",
       "    }\n",
       "\n",
       "    .dataframe thead th {\n",
       "        text-align: right;\n",
       "    }\n",
       "</style>\n",
       "<table border=\"1\" class=\"dataframe\">\n",
       "  <thead>\n",
       "    <tr style=\"text-align: right;\">\n",
       "      <th></th>\n",
       "      <th>name</th>\n",
       "      <th>MDVP:Fo(Hz)</th>\n",
       "      <th>MDVP:Fhi(Hz)</th>\n",
       "      <th>MDVP:Flo(Hz)</th>\n",
       "      <th>MDVP:Jitter(%)</th>\n",
       "      <th>MDVP:Jitter(Abs)</th>\n",
       "      <th>MDVP:RAP</th>\n",
       "      <th>MDVP:PPQ</th>\n",
       "      <th>Jitter:DDP</th>\n",
       "      <th>MDVP:Shimmer</th>\n",
       "      <th>...</th>\n",
       "      <th>Shimmer:DDA</th>\n",
       "      <th>NHR</th>\n",
       "      <th>HNR</th>\n",
       "      <th>RPDE</th>\n",
       "      <th>DFA</th>\n",
       "      <th>spread1</th>\n",
       "      <th>spread2</th>\n",
       "      <th>D2</th>\n",
       "      <th>PPE</th>\n",
       "      <th>status</th>\n",
       "    </tr>\n",
       "  </thead>\n",
       "  <tbody>\n",
       "    <tr>\n",
       "      <th>0</th>\n",
       "      <td>phon_R01_S01_1</td>\n",
       "      <td>119.992</td>\n",
       "      <td>157.302</td>\n",
       "      <td>74.997</td>\n",
       "      <td>0.00784</td>\n",
       "      <td>0.00007</td>\n",
       "      <td>0.00370</td>\n",
       "      <td>0.00554</td>\n",
       "      <td>0.01109</td>\n",
       "      <td>0.04374</td>\n",
       "      <td>...</td>\n",
       "      <td>0.06545</td>\n",
       "      <td>0.02211</td>\n",
       "      <td>21.033</td>\n",
       "      <td>0.414783</td>\n",
       "      <td>0.815285</td>\n",
       "      <td>-4.813031</td>\n",
       "      <td>0.266482</td>\n",
       "      <td>2.301442</td>\n",
       "      <td>0.284654</td>\n",
       "      <td>1</td>\n",
       "    </tr>\n",
       "    <tr>\n",
       "      <th>1</th>\n",
       "      <td>phon_R01_S01_2</td>\n",
       "      <td>122.400</td>\n",
       "      <td>148.650</td>\n",
       "      <td>113.819</td>\n",
       "      <td>0.00968</td>\n",
       "      <td>0.00008</td>\n",
       "      <td>0.00465</td>\n",
       "      <td>0.00696</td>\n",
       "      <td>0.01394</td>\n",
       "      <td>0.06134</td>\n",
       "      <td>...</td>\n",
       "      <td>0.09403</td>\n",
       "      <td>0.01929</td>\n",
       "      <td>19.085</td>\n",
       "      <td>0.458359</td>\n",
       "      <td>0.819521</td>\n",
       "      <td>-4.075192</td>\n",
       "      <td>0.335590</td>\n",
       "      <td>2.486855</td>\n",
       "      <td>0.368674</td>\n",
       "      <td>1</td>\n",
       "    </tr>\n",
       "    <tr>\n",
       "      <th>2</th>\n",
       "      <td>phon_R01_S01_3</td>\n",
       "      <td>116.682</td>\n",
       "      <td>131.111</td>\n",
       "      <td>111.555</td>\n",
       "      <td>0.01050</td>\n",
       "      <td>0.00009</td>\n",
       "      <td>0.00544</td>\n",
       "      <td>0.00781</td>\n",
       "      <td>0.01633</td>\n",
       "      <td>0.05233</td>\n",
       "      <td>...</td>\n",
       "      <td>0.08270</td>\n",
       "      <td>0.01309</td>\n",
       "      <td>20.651</td>\n",
       "      <td>0.429895</td>\n",
       "      <td>0.825288</td>\n",
       "      <td>-4.443179</td>\n",
       "      <td>0.311173</td>\n",
       "      <td>2.342259</td>\n",
       "      <td>0.332634</td>\n",
       "      <td>1</td>\n",
       "    </tr>\n",
       "    <tr>\n",
       "      <th>3</th>\n",
       "      <td>phon_R01_S01_4</td>\n",
       "      <td>116.676</td>\n",
       "      <td>137.871</td>\n",
       "      <td>111.366</td>\n",
       "      <td>0.00997</td>\n",
       "      <td>0.00009</td>\n",
       "      <td>0.00502</td>\n",
       "      <td>0.00698</td>\n",
       "      <td>0.01505</td>\n",
       "      <td>0.05492</td>\n",
       "      <td>...</td>\n",
       "      <td>0.08771</td>\n",
       "      <td>0.01353</td>\n",
       "      <td>20.644</td>\n",
       "      <td>0.434969</td>\n",
       "      <td>0.819235</td>\n",
       "      <td>-4.117501</td>\n",
       "      <td>0.334147</td>\n",
       "      <td>2.405554</td>\n",
       "      <td>0.368975</td>\n",
       "      <td>1</td>\n",
       "    </tr>\n",
       "    <tr>\n",
       "      <th>4</th>\n",
       "      <td>phon_R01_S01_5</td>\n",
       "      <td>116.014</td>\n",
       "      <td>141.781</td>\n",
       "      <td>110.655</td>\n",
       "      <td>0.01284</td>\n",
       "      <td>0.00011</td>\n",
       "      <td>0.00655</td>\n",
       "      <td>0.00908</td>\n",
       "      <td>0.01966</td>\n",
       "      <td>0.06425</td>\n",
       "      <td>...</td>\n",
       "      <td>0.10470</td>\n",
       "      <td>0.01767</td>\n",
       "      <td>19.649</td>\n",
       "      <td>0.417356</td>\n",
       "      <td>0.823484</td>\n",
       "      <td>-3.747787</td>\n",
       "      <td>0.234513</td>\n",
       "      <td>2.332180</td>\n",
       "      <td>0.410335</td>\n",
       "      <td>1</td>\n",
       "    </tr>\n",
       "  </tbody>\n",
       "</table>\n",
       "<p>5 rows × 24 columns</p>\n",
       "</div>"
      ],
      "text/plain": [
       "             name  MDVP:Fo(Hz)  MDVP:Fhi(Hz)  MDVP:Flo(Hz)  MDVP:Jitter(%)  \\\n",
       "0  phon_R01_S01_1      119.992       157.302        74.997         0.00784   \n",
       "1  phon_R01_S01_2      122.400       148.650       113.819         0.00968   \n",
       "2  phon_R01_S01_3      116.682       131.111       111.555         0.01050   \n",
       "3  phon_R01_S01_4      116.676       137.871       111.366         0.00997   \n",
       "4  phon_R01_S01_5      116.014       141.781       110.655         0.01284   \n",
       "\n",
       "   MDVP:Jitter(Abs)  MDVP:RAP  MDVP:PPQ  Jitter:DDP  MDVP:Shimmer  ...  \\\n",
       "0           0.00007   0.00370   0.00554     0.01109       0.04374  ...   \n",
       "1           0.00008   0.00465   0.00696     0.01394       0.06134  ...   \n",
       "2           0.00009   0.00544   0.00781     0.01633       0.05233  ...   \n",
       "3           0.00009   0.00502   0.00698     0.01505       0.05492  ...   \n",
       "4           0.00011   0.00655   0.00908     0.01966       0.06425  ...   \n",
       "\n",
       "   Shimmer:DDA      NHR     HNR      RPDE       DFA   spread1   spread2  \\\n",
       "0      0.06545  0.02211  21.033  0.414783  0.815285 -4.813031  0.266482   \n",
       "1      0.09403  0.01929  19.085  0.458359  0.819521 -4.075192  0.335590   \n",
       "2      0.08270  0.01309  20.651  0.429895  0.825288 -4.443179  0.311173   \n",
       "3      0.08771  0.01353  20.644  0.434969  0.819235 -4.117501  0.334147   \n",
       "4      0.10470  0.01767  19.649  0.417356  0.823484 -3.747787  0.234513   \n",
       "\n",
       "         D2       PPE  status  \n",
       "0  2.301442  0.284654       1  \n",
       "1  2.486855  0.368674       1  \n",
       "2  2.342259  0.332634       1  \n",
       "3  2.405554  0.368975       1  \n",
       "4  2.332180  0.410335       1  \n",
       "\n",
       "[5 rows x 24 columns]"
      ]
     },
     "execution_count": 2,
     "metadata": {},
     "output_type": "execute_result"
    }
   ],
   "source": [
    "df=pd.read_csv('D:\\Parkinson\\data.csv')\n",
    "df.head()"
   ]
  },
  {
   "cell_type": "code",
   "execution_count": 3,
   "metadata": {},
   "outputs": [],
   "source": [
    "features=df.loc[:,df.columns!='status'].values[:,1:]\n",
    "labels=df.loc[:,'status'].values[:]"
   ]
  },
  {
   "cell_type": "code",
   "execution_count": 4,
   "metadata": {},
   "outputs": [],
   "source": [
    "from sklearn.preprocessing import MinMaxScaler"
   ]
  },
  {
   "cell_type": "code",
   "execution_count": 5,
   "metadata": {},
   "outputs": [],
   "source": [
    "scaler=MinMaxScaler((-1,1))\n",
    "real_x=scaler.fit_transform(features)\n",
    "real_y=labels"
   ]
  },
  {
   "cell_type": "code",
   "execution_count": 6,
   "metadata": {},
   "outputs": [],
   "source": [
    "training_x, testing_x, training_y, testing_y=train_test_split(real_x,real_y,test_size=0.2,random_state=7)"
   ]
  },
  {
   "cell_type": "code",
   "execution_count": 7,
   "metadata": {},
   "outputs": [
    {
     "name": "stdout",
     "output_type": "stream",
     "text": [
      "(156, 22)\n",
      "(39, 22)\n",
      "(156,)\n",
      "(39,)\n"
     ]
    }
   ],
   "source": [
    "print(training_x.shape)\n",
    "print(testing_x.shape)\n",
    "print(training_y.shape)\n",
    "print(testing_y.shape)"
   ]
  },
  {
   "cell_type": "code",
   "execution_count": 8,
   "metadata": {},
   "outputs": [],
   "source": [
    "def specificity(y_true, y_pred):\n",
    "    fpr, tpr, thresholds = roc_curve(y_true, y_pred)\n",
    "    speci = 1 - fpr[1]\n",
    "    return speci\n",
    "\n",
    "scorer = make_scorer(specificity)"
   ]
  },
  {
   "cell_type": "code",
   "execution_count": 9,
   "metadata": {},
   "outputs": [],
   "source": [
    "def objf(wts, models):\n",
    "    \n",
    "    model = VotingClassifier(estimators=[('m1', models[0]), ('m2', models[1]), ('m3', models[2]), ('m4', models[3]), \n",
    "                                         ('m5', models[4])], \n",
    "                             voting='soft', weights = wts)\n",
    "    \n",
    "    model.fit(training_x, training_y)\n",
    "    final_pred = model.predict(testing_x)\n",
    "    c_m = confusion_matrix(testing_y, final_pred)\n",
    "    fitness = (c_m[0][1] + c_m[1][0])/(c_m[0][0] + c_m[0][1] + c_m[1][0] + c_m[1][1])\n",
    "    return fitness"
   ]
  },
  {
   "cell_type": "code",
   "execution_count": 10,
   "metadata": {},
   "outputs": [],
   "source": [
    "def GWO(objf,models):\n",
    "    \n",
    "    Max_iter=1000\n",
    "    lb= 0\n",
    "    ub= 1\n",
    "    dim=5  \n",
    "    SearchAgents_no=10\n",
    "    \n",
    "    # initialize alpha, beta, and delta_pos\n",
    "    Alpha_pos=np.zeros(dim)\n",
    "    Alpha_score=float(\"inf\")\n",
    "    \n",
    "    Beta_pos=np.zeros(dim)\n",
    "    Beta_score=float(\"inf\")\n",
    "    \n",
    "    Delta_pos=np.zeros(dim)\n",
    "    Delta_score=float(\"inf\")\n",
    "    \n",
    "    pos = np.ones(dim)\n",
    "    score = float(\"inf\")\n",
    "\n",
    "    if not isinstance(lb, list):\n",
    "        lb = [lb] * dim\n",
    "    if not isinstance(ub, list):\n",
    "        ub = [ub] * dim\n",
    "    \n",
    "    #Initialize the positions of search agents\n",
    "    Positions = np.zeros((SearchAgents_no, dim))\n",
    "    for i in range(dim):\n",
    "        Positions[:, i] = np.random.uniform(0,1, SearchAgents_no) * (ub[i] - lb[i]) + lb[i]\n",
    "    \n",
    "    Convergence_curve=np.zeros(Max_iter)\n",
    "\n",
    "     # Loop counter\n",
    "    print(\"GWO is optimizing  \\\"\"+objf.__name__+\"\\\"\")    \n",
    "    \n",
    "    # Main loop\n",
    "    for l in range(0,Max_iter):\n",
    "        for i in range(0,SearchAgents_no):\n",
    "            \n",
    "            # Return back the search agents that go beyond the boundaries of the search space\n",
    "            for j in range(dim):\n",
    "                Positions[i,j]=np.clip(Positions[i,j], lb[j], ub[j])\n",
    "\n",
    "            # Calculate objective function for each search agent\n",
    "            fitness=objf(Positions[i,:], models)\n",
    "            \n",
    "            # Update Alpha, Beta, and Delta\n",
    "            if fitness<Alpha_score :\n",
    "                Alpha_score=fitness; # Update alpha\n",
    "                Alpha_pos=Positions[i,:].copy()\n",
    "            \n",
    "            \n",
    "            if (fitness>Alpha_score and fitness<Beta_score ):\n",
    "                Beta_score=fitness  # Update beta\n",
    "                Beta_pos=Positions[i,:].copy()\n",
    "            \n",
    "            \n",
    "            if (fitness>Alpha_score and fitness>Beta_score and fitness<Delta_score): \n",
    "                Delta_score=fitness # Update delta\n",
    "                Delta_pos=Positions[i,:].copy()\n",
    "            \n",
    "        \n",
    "        \n",
    "        \n",
    "        #a=2-l*((2)/Max_iter); # a decreases linearly fron 2 to 0\n",
    "   #     a=2*(1-((l*l)/(Max_iter*Max_iter)));\n",
    "        a = 2*(1 - (math.sin((l*math.pi)/(2*Max_iter))))\n",
    "        # Update the Position of search agents including omegas\n",
    "        for i in range(0,SearchAgents_no):\n",
    "            for j in range (0,dim):     \n",
    "                           \n",
    "                r1=random.random() # r1 is a random number in [0,1]\n",
    "                r2=random.random() # r2 is a random number in [0,1]\n",
    "                \n",
    "                A1=2*a*r1-a; # Equation (3.3)\n",
    "                C1=2*r2; # Equation (3.4)\n",
    "                \n",
    "                D_alpha=abs(C1*Alpha_pos[j]-Positions[i,j]); # Equation (3.5)-part 1\n",
    "                X1=Alpha_pos[j]-A1*D_alpha; # Equation (3.6)-part 1\n",
    "                           \n",
    "                r1=random.random()\n",
    "                r2=random.random()\n",
    "                \n",
    "                A2=2*a*r1-a; # Equation (3.3)\n",
    "                C2=2*r2; # Equation (3.4)\n",
    "                \n",
    "                D_beta=abs(C2*Beta_pos[j]-Positions[i,j]); # Equation (3.5)-part 2\n",
    "                X2=Beta_pos[j]-A2*D_beta; # Equation (3.6)-part 2       \n",
    "                \n",
    "                r1=random.random()\n",
    "                r2=random.random() \n",
    "                \n",
    "                A3=2*a*r1-a; # Equation (3.3)\n",
    "                C3=2*r2; # Equation (3.4)\n",
    "                \n",
    "                D_delta=abs(C3*Delta_pos[j]-Positions[i,j]); # Equation (3.5)-part 3\n",
    "                X3=Delta_pos[j]-A3*D_delta; # Equation (3.5)-part 3             \n",
    "#                 fi=0.5*(np.arctan(l))\n",
    "#                 th=(2/(math.pi))*(np.arccos(1/3))*(np.arctan(l))\n",
    "#                 w1=math.cos(th)\n",
    "#                 w2=0.5*(math.sin(th))*(math.cos(fi))\n",
    "#                 w3=1-w1-w2\n",
    "#                 Positions[i,j]=((w1*X1)+(w2*X2)+(w3*X3))  # Equation (3.7)\n",
    "                Positions[i,j]=(X1+X2+X3)/3\n",
    "            if(score>Alpha_score):\n",
    "                score = Alpha_score\n",
    "                pos = Alpha_pos\n",
    "    \n",
    "    return pos\n",
    "\n"
   ]
  },
  {
   "cell_type": "code",
   "execution_count": 11,
   "metadata": {},
   "outputs": [],
   "source": [
    "acc = array('f', [])\n",
    "\n",
    "pre = array('f', [])\n",
    "\n",
    "recall = array('f', [])\n",
    "\n",
    "f_m = array('f', [])\n",
    "\n",
    "roc = array('f', [])\n",
    "\n",
    "speci = array('f', [])\n",
    "\n",
    "models = []"
   ]
  },
  {
   "cell_type": "code",
   "execution_count": 12,
   "metadata": {},
   "outputs": [],
   "source": [
    "model1 = KNeighborsClassifier(n_neighbors = 2, metric = 'minkowski', p = 2)\n",
    "models.append(model1)#76.27\n",
    "\n",
    "model2 = SVC(kernel = \"rbf\", random_state = 0, gamma = 0.1, probability = True)\n",
    "models.append(model2)#79.66\n",
    "\n",
    "model3 = XGBClassifier()\n",
    "models.append(model3)#91.52\n",
    "\n",
    "model4 = DecisionTreeClassifier(criterion='entropy',max_depth=6,random_state=100,min_samples_leaf=5)\n",
    "models.append(model4)#89.83\n",
    "\n",
    "model5 = RandomForestClassifier(n_estimators = 50)\n",
    "models.append(model5)#88.13"
   ]
  },
  {
   "cell_type": "code",
   "execution_count": 13,
   "metadata": {},
   "outputs": [
    {
     "name": "stdout",
     "output_type": "stream",
     "text": [
      "GWO is optimizing  \"objf\"\n",
      "time of execution is = 5995.388437747955\n"
     ]
    }
   ],
   "source": [
    "start = time.time()\n",
    "wts = GWO(objf, models)\n",
    "\n",
    "model = VotingClassifier(estimators=[('m1', model1), ('m2', model2), ('m3', model3), ('m4', model4), \n",
    "                                     ('m5', model5)], voting='soft', weights = wts)\n",
    "\n",
    "end = time.time()\n",
    "print(\"time of execution is =\", (end - start))"
   ]
  },
  {
   "cell_type": "code",
   "execution_count": 14,
   "metadata": {},
   "outputs": [],
   "source": [
    "model.fit(training_x, training_y)\n",
    "final_pred = model.predict(testing_x)"
   ]
  },
  {
   "cell_type": "code",
   "execution_count": 15,
   "metadata": {},
   "outputs": [],
   "source": [
    "from sklearn.metrics import accuracy_score,precision_score,recall_score"
   ]
  },
  {
   "cell_type": "code",
   "execution_count": 16,
   "metadata": {},
   "outputs": [
    {
     "name": "stdout",
     "output_type": "stream",
     "text": [
      "Model Accuracy : 97.43589743589743 %\n",
      "Model precision : 96.96969696969697 %\n",
      "Model recall : 100.0 %\n"
     ]
    }
   ],
   "source": [
    "print('Model Accuracy : {} %'.format(accuracy_score(testing_y,final_pred)*100))\n",
    "print('Model precision : {} %'.format(precision_score(testing_y,final_pred)*100))\n",
    "print('Model recall : {} %'.format(recall_score(testing_y,final_pred)*100))"
   ]
  },
  {
   "cell_type": "code",
   "execution_count": 17,
   "metadata": {},
   "outputs": [
    {
     "name": "stdout",
     "output_type": "stream",
     "text": [
      "Misclassified samples in model: 1\n"
     ]
    }
   ],
   "source": [
    "count_misclassified = (testing_y != final_pred).sum()\n",
    "print('Misclassified samples in model: {}'.format(count_misclassified))"
   ]
  },
  {
   "cell_type": "code",
   "execution_count": 18,
   "metadata": {},
   "outputs": [
    {
     "data": {
      "text/plain": [
       "array([0.8561172 , 0.53513208, 0.46228808, 0.17183262, 0.22595059])"
      ]
     },
     "execution_count": 18,
     "metadata": {},
     "output_type": "execute_result"
    }
   ],
   "source": [
    "#final_pred\n",
    "wts"
   ]
  },
  {
   "cell_type": "code",
   "execution_count": 19,
   "metadata": {},
   "outputs": [
    {
     "data": {
      "text/plain": [
       "array([[ 6,  1],\n",
       "       [ 0, 32]], dtype=int64)"
      ]
     },
     "execution_count": 19,
     "metadata": {},
     "output_type": "execute_result"
    }
   ],
   "source": [
    "c_m = confusion_matrix(testing_y, final_pred)\n",
    "c_m"
   ]
  },
  {
   "cell_type": "code",
   "execution_count": 20,
   "metadata": {},
   "outputs": [
    {
     "data": {
      "text/plain": [
       "<AxesSubplot:>"
      ]
     },
     "execution_count": 20,
     "metadata": {},
     "output_type": "execute_result"
    },
    {
     "data": {
      "image/png": "[encoded data removed]",
      "text/plain": [
       "<Figure size 432x288 with 2 Axes>"
      ]
     },
     "metadata": {
      "needs_background": "light"
     },
     "output_type": "display_data"
    }
   ],
   "source": [
    "import seaborn as sns\n",
    "sns.heatmap(c_m, annot = True,cmap = 'RdYlGn')"
   ]
  },
  {
   "cell_type": "code",
   "execution_count": 21,
   "metadata": {},
   "outputs": [
    {
     "name": "stdout",
     "output_type": "stream",
     "text": [
      "0.9116666666666667\n",
      "0.9287698412698413\n",
      "0.9517857142857145\n",
      "0.9383424908424909\n"
     ]
    }
   ],
   "source": [
    "score = model_selection.cross_val_score(model, real_x, real_y, cv = 20, scoring = 'accuracy')\n",
    "print(score.mean())\n",
    "score = model_selection.cross_val_score(model, real_x, real_y, cv = 20, scoring = 'precision')\n",
    "print(score.mean())\n",
    "score = model_selection.cross_val_score(model, real_x, real_y, cv = 20, scoring = 'recall')\n",
    "print(score.mean())\n",
    "score = model_selection.cross_val_score(model, real_x, real_y, cv = 20, scoring = 'f1')\n",
    "print(score.mean())"
   ]
  },
  {
   "cell_type": "code",
   "execution_count": 22,
   "metadata": {},
   "outputs": [
    {
     "name": "stdout",
     "output_type": "stream",
     "text": [
      "0.9261904761904761\n",
      "0.9461111111111111\n",
      "0.9716666666666666\n",
      "0.9520033670033671\n"
     ]
    }
   ],
   "source": [
    "score = model_selection.cross_val_score(model, real_x, real_y, cv = 30, scoring = 'accuracy')\n",
    "print(score.mean())\n",
    "score = model_selection.cross_val_score(model, real_x, real_y, cv = 30, scoring = 'precision')\n",
    "print(score.mean())\n",
    "score = model_selection.cross_val_score(model, real_x, real_y, cv = 30, scoring = 'recall')\n",
    "print(score.mean())\n",
    "score = model_selection.cross_val_score(model, real_x, real_y, cv = 30, scoring = 'f1')\n",
    "print(score.mean())"
   ]
  },
  {
   "cell_type": "code",
   "execution_count": 23,
   "metadata": {},
   "outputs": [
    {
     "data": {
      "text/plain": [
       "array([1.        , 0.88888889, 1.        , 1.        , 1.        ,\n",
       "       1.        , 0.90909091, 1.        , 0.90909091, 1.        ,\n",
       "       0.88888889, 1.        , 1.        , 0.90909091, 1.        ,\n",
       "       1.        , 1.        , 1.        , 0.88888889, 1.        ,\n",
       "       1.        , 0.90909091, 0.90909091, 0.8       , 1.        ,\n",
       "       1.        , 0.90909091, 1.        , 0.75      , 0.88888889])"
      ]
     },
     "execution_count": 23,
     "metadata": {},
     "output_type": "execute_result"
    }
   ],
   "source": [
    "score\n"
   ]
  },
  {
   "cell_type": "code",
   "execution_count": 24,
   "metadata": {},
   "outputs": [
    {
     "name": "stdout",
     "output_type": "stream",
     "text": [
      "0.8913157894736841\n",
      "0.914656862745098\n",
      "0.9523809523809523\n",
      "0.9306991895757191\n"
     ]
    }
   ],
   "source": [
    "score = model_selection.cross_val_score(model, real_x, real_y, cv = 10, scoring = 'accuracy')\n",
    "print(score.mean())\n",
    "score = model_selection.cross_val_score(model, real_x, real_y, cv = 10, scoring = 'precision')\n",
    "print(score.mean())\n",
    "score = model_selection.cross_val_score(model, real_x, real_y, cv = 10, scoring = 'recall')\n",
    "print(score.mean())\n",
    "score = model_selection.cross_val_score(model, real_x, real_y, cv = 10, scoring = 'f1')\n",
    "print(score.mean())"
   ]
  },
  {
   "cell_type": "code",
   "execution_count": 25,
   "metadata": {},
   "outputs": [
    {
     "data": {
      "text/plain": [
       "array([0.92857143, 1.        , 0.90322581, 0.93333333, 1.        ,\n",
       "       0.96774194, 0.96551724, 0.90322581, 0.83870968, 0.86666667])"
      ]
     },
     "execution_count": 25,
     "metadata": {},
     "output_type": "execute_result"
    }
   ],
   "source": [
    "score\n"
   ]
  },
  {
   "cell_type": "code",
   "execution_count": 26,
   "metadata": {},
   "outputs": [
    {
     "name": "stdout",
     "output_type": "stream",
     "text": [
      "0.8051282051282052\n",
      "0.8235563195501525\n",
      "0.9528735632183908\n",
      "0.881471318252105\n"
     ]
    }
   ],
   "source": [
    "score = model_selection.cross_val_score(model, real_x, real_y, cv = 5, scoring = 'accuracy')\n",
    "print(score.mean())\n",
    "score = model_selection.cross_val_score(model, real_x, real_y, cv = 5, scoring = 'precision')\n",
    "print(score.mean())\n",
    "score = model_selection.cross_val_score(model, real_x, real_y, cv = 5, scoring = 'recall')\n",
    "print(score.mean())\n",
    "score = model_selection.cross_val_score(model, real_x, real_y, cv = 5, scoring = 'f1')\n",
    "print(score.mean())"
   ]
  },
  {
   "cell_type": "code",
   "execution_count": null,
   "metadata": {},
   "outputs": [],
   "source": []
  }
 ],
 "metadata": {
  "kernelspec": {
   "display_name": "Python 3 (ipykernel)",
   "language": "python",
   "name": "python3"
  },
  "language_info": {
   "codemirror_mode": {
    "name": "ipython",
    "version": 3
   },
   "file_extension": ".py",
   "mimetype": "text/x-python",
   "name": "python",
   "nbconvert_exporter": "python",
   "pygments_lexer": "ipython3",
   "version": "3.11.4"
  }
 },
 "nbformat": 4,
 "nbformat_minor": 4
}
